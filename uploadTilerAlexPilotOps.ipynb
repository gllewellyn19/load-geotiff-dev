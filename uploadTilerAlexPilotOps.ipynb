{
 "cells": [
  {
   "cell_type": "markdown",
   "metadata": {},
   "source": [
    "# The goal of this notebook is to demonstrate the problems that I am having with the Tiler in MAAP OPS"
   ]
  },
  {
   "cell_type": "code",
   "execution_count": 13,
   "metadata": {},
   "outputs": [
    {
     "data": {
      "application/vnd.jupyter.widget-view+json": {
       "model_id": "3cd1dd52a45a4ef78f96aedd5b2079e2",
       "version_major": 2,
       "version_minor": 0
      },
      "text/plain": [
       "MapCMC()"
      ]
     },
     "metadata": {},
     "output_type": "display_data"
    }
   ],
   "source": [
    "from maap.maap import MAAP\n",
    "maap = MAAP\n",
    "\n",
    "import ipycmc\n",
    "w = ipycmc.MapCMC()\n",
    "w"
   ]
  },
  {
   "cell_type": "code",
   "execution_count": 1,
   "metadata": {},
   "outputs": [],
   "source": [
    "import requests\n",
    "from pprint import pprint\n",
    "\n",
    "titiler_endpoint_posting = \"https://h9su0upami.execute-api.us-east-1.amazonaws.com\"\n",
    "titiler_endpoint_pilot_ops = \"https://baxpil3vd6.execute-api.us-east-1.amazonaws.com/\""
   ]
  },
  {
   "cell_type": "code",
   "execution_count": 2,
   "metadata": {},
   "outputs": [],
   "source": [
    "# Collect mosaicdata\n",
    "mosaicdata = {\"mosaicjson\": \"0.0.2\", \"name\": None, \"description\": None, \"version\": \"1.0.0\", \"attribution\": None, \"minzoom\": 10, \"maxzoom\": 18, \"quadkey_zoom\": 10, \"bounds\": [-101.00013888888888, 44.999861111111116, -99.9998611111111, 46.00013888888889], \"center\": [-100.5, 45.5, 10], \"tiles\": {\"0213302200\": [\"s3://maap-ops-dataset/graceal/N45W101.SRTMGL1.tif\"], \"0213302201\": [\"s3://maap-ops-dataset/graceal/N45W101.SRTMGL1.tif\"], \"0213302210\": [\"s3://maap-ops-dataset/graceal/N45W101.SRTMGL1.tif\"], \"0213302211\": [\"s3://maap-ops-dataset/graceal/N45W101.SRTMGL1.tif\"], \"0213302202\": [\"s3://maap-ops-dataset/graceal/N45W101.SRTMGL1.tif\"], \"0213302203\": [\"s3://maap-ops-dataset/graceal/N45W101.SRTMGL1.tif\"], \"0213302212\": [\"s3://maap-ops-dataset/graceal/N45W101.SRTMGL1.tif\"], \"0213302213\": [\"s3://maap-ops-dataset/graceal/N45W101.SRTMGL1.tif\"], \"0213302220\": [\"s3://maap-ops-dataset/graceal/N45W101.SRTMGL1.tif\"], \"0213302221\": [\"s3://maap-ops-dataset/graceal/N45W101.SRTMGL1.tif\"], \"0213302230\": [\"s3://maap-ops-dataset/graceal/N45W101.SRTMGL1.tif\"], \"0213302231\": [\"s3://maap-ops-dataset/graceal/N45W101.SRTMGL1.tif\"], \"0213302222\": [\"s3://maap-ops-dataset/graceal/N45W101.SRTMGL1.tif\"], \"0213302223\": [\"s3://maap-ops-dataset/graceal/N45W101.SRTMGL1.tif\"], \"0213302232\": [\"s3://maap-ops-dataset/graceal/N45W101.SRTMGL1.tif\"], \"0213302233\": [\"s3://maap-ops-dataset/graceal/N45W101.SRTMGL1.tif\"], \"0213320000\": [\"s3://maap-ops-dataset/graceal/N45W101.SRTMGL1.tif\"], \"0213320001\": [\"s3://maap-ops-dataset/graceal/N45W101.SRTMGL1.tif\"], \"0213320010\": [\"s3://maap-ops-dataset/graceal/N45W101.SRTMGL1.tif\"], \"0213320011\": [\"s3://maap-ops-dataset/graceal/N45W101.SRTMGL1.tif\"]}}"
   ]
  },
  {
   "cell_type": "code",
   "execution_count": 3,
   "metadata": {},
   "outputs": [
    {
     "name": "stdout",
     "output_type": "stream",
     "text": [
      "{'id': '70f12c77-5edf-4a9e-9151-0b9936bcda2d',\n",
      " 'links': [{'href': 'https://h9su0upami.execute-api.us-east-1.amazonaws.com/mosaicjson/mosaics/70f12c77-5edf-4a9e-9151-0b9936bcda2d',\n",
      "            'rel': 'self',\n",
      "            'title': 'Self',\n",
      "            'type': 'application/json'},\n",
      "           {'href': 'https://h9su0upami.execute-api.us-east-1.amazonaws.com/mosaicjson/mosaics/70f12c77-5edf-4a9e-9151-0b9936bcda2d/mosaicjson',\n",
      "            'rel': 'mosaicjson',\n",
      "            'title': 'MosiacJSON',\n",
      "            'type': 'application/json'},\n",
      "           {'href': 'https://h9su0upami.execute-api.us-east-1.amazonaws.com/mosaicjson/mosaics/70f12c77-5edf-4a9e-9151-0b9936bcda2d/tilejson.json',\n",
      "            'rel': 'tilejson',\n",
      "            'title': 'TileJSON',\n",
      "            'type': 'application/json'},\n",
      "           {'href': 'https://h9su0upami.execute-api.us-east-1.amazonaws.com/mosaicjson/mosaics/70f12c77-5edf-4a9e-9151-0b9936bcda2d/tiles/{z}/{x}/{y}',\n",
      "            'rel': 'tiles',\n",
      "            'title': 'Tiles',\n",
      "            'type': 'application/json'},\n",
      "           {'href': 'https://h9su0upami.execute-api.us-east-1.amazonaws.com/mosaicjson/mosaics/70f12c77-5edf-4a9e-9151-0b9936bcda2d/WMTSCapabilities.xml',\n",
      "            'rel': 'wmts',\n",
      "            'title': 'WMTS',\n",
      "            'type': 'application/json'}]}\n",
      "Tile json endpoint Alex uses in his code: https://h9su0upami.execute-api.us-east-1.amazonaws.com/mosaicjson/mosaics/70f12c77-5edf-4a9e-9151-0b9936bcda2d/tilejson.json\n",
      "XML endpoint to try to pass directly to CMC https://h9su0upami.execute-api.us-east-1.amazonaws.com/mosaicjson/mosaics/70f12c77-5edf-4a9e-9151-0b9936bcda2d/WMTSCapabilities.xml\n"
     ]
    }
   ],
   "source": [
    "r = requests.post(\n",
    "    url=f\"{titiler_endpoint_posting}/mosaicjson/mosaics\",\n",
    "    headers={\n",
    "        \"Content-Type\": \"application/vnd.titiler.mosaicjson+json\",\n",
    "    },\n",
    "    #json=mosaicdata2.dict(exclude_none=True)).json()\n",
    "    json=mosaicdata).json()\n",
    "pprint(r)\n",
    "tilejson_endpoint = list(filter(lambda x: x.get(\"rel\") == \"tilejson\", dict(r)[\"links\"]))[0].get('href')\n",
    "print(\"Tile json endpoint Alex uses in his code: \" + tilejson_endpoint)\n",
    "\n",
    "xml_endpoint = list(filter(lambda x: x.get(\"rel\") == \"wmts\", dict(r)[\"links\"]))[0].get('href')\n",
    "print(\"XML endpoint to try to pass directly to CMC \" + xml_endpoint)"
   ]
  },
  {
   "cell_type": "markdown",
   "metadata": {},
   "source": [
    "## Attempt 1: Trying to pass XML endpoint directly into CMC"
   ]
  },
  {
   "cell_type": "code",
   "execution_count": 12,
   "metadata": {},
   "outputs": [],
   "source": [
    "w.load_layer_config(xml_endpoint, \"wmts/xml\", {\"handleAs\": \"wmts_raster\"})"
   ]
  },
  {
   "cell_type": "markdown",
   "metadata": {},
   "source": [
    "Outcome: A layer loads, but the tiles shown on the map are just gray and do not have other characteristics. After inspecting the network, there are no apparent errors from the incoming tiles"
   ]
  },
  {
   "cell_type": "markdown",
   "metadata": {},
   "source": [
    "## Attempt 2: Using tilejson_endpoint to pass to the Tiler and using that url for load_layer_config"
   ]
  },
  {
   "cell_type": "code",
   "execution_count": 14,
   "metadata": {},
   "outputs": [
    {
     "data": {
      "text/plain": [
       "'https://baxpil3vd6.execute-api.us-east-1.amazonaws.com//mosaicjson/WMTSCapabilities.xml?tile_format=png&tile_scale=1&pixel_selection=first&TileMatrixSetId=WebMercatorQuad&url=https%3A%2F%2Fh9su0upami.execute-api.us-east-1.amazonaws.com%2Fmosaicjson%2Fmosaics%2F70f12c77-5edf-4a9e-9151-0b9936bcda2d%2Ftilejson.json&resampling_method=nearest&return_mask=true&rescale=0%2C1000'"
      ]
     },
     "execution_count": 14,
     "metadata": {},
     "output_type": "execute_result"
    }
   ],
   "source": [
    "# Create the request url by formatting using the Tiler ops endpoint\n",
    "request_url = requests.get(\n",
    "f\"{titiler_endpoint_pilot_ops}/mosaicjson/WMTSCapabilities.xml?\", params={\"tile_format\":\"png\", \"tile_scale\":\"1\", \"pixel_selection\":\"first\", \"TileMatrixSetId\":\"WebMercatorQuad\", \"url\": f\"{tilejson_endpoint}\", \"resampling_method\":\"nearest\", \"return_mask\":\"true\", \"rescale\":\"0,1000\"}\n",
    ").url\n",
    "request_url"
   ]
  },
  {
   "cell_type": "markdown",
   "metadata": {},
   "source": [
    "Outcome: No map layer loads and when you click the above link, you can see that there is the following error: {\"detail\":[{\"loc\":[\"query\",\"url\"],\"msg\":\"field required\",\"type\":\"value_error.missing\"}]}. No apparent errors after inspecting network."
   ]
  },
  {
   "cell_type": "code",
   "execution_count": 15,
   "metadata": {},
   "outputs": [
    {
     "data": {
      "text/plain": [
       "'https://h9su0upami.execute-api.us-east-1.amazonaws.com/mosaicjson/WMTSCapabilities.xml?tile_format=png&tile_scale=1&pixel_selection=first&TileMatrixSetId=WebMercatorQuad&url=https%3A%2F%2Fh9su0upami.execute-api.us-east-1.amazonaws.com%2Fmosaicjson%2Fmosaics%2F70f12c77-5edf-4a9e-9151-0b9936bcda2d%2Ftilejson.json&resampling_method=nearest&return_mask=true&rescale=0%2C1000'"
      ]
     },
     "execution_count": 15,
     "metadata": {},
     "output_type": "execute_result"
    }
   ],
   "source": [
    "# Create the request url using the h9su endpoint\n",
    "request_url2 = requests.get(\n",
    "f\"{titiler_endpoint_posting}/mosaicjson/WMTSCapabilities.xml?\", params={\"tile_format\":\"png\", \"tile_scale\":\"1\", \"pixel_selection\":\"first\", \"TileMatrixSetId\":\"WebMercatorQuad\", \"url\": f\"{tilejson_endpoint}\", \"resampling_method\":\"nearest\", \"return_mask\":\"true\", \"rescale\":\"0,1000\"}\n",
    ").url\n",
    "request_url2"
   ]
  },
  {
   "cell_type": "markdown",
   "metadata": {},
   "source": [
    "Outcome: No map layer loads and when you click the above link, you can see that there is the following error: {\"detail\":[{\"loc\":[\"query\",\"url\"],\"msg\":\"field required\",\"type\":\"value_error.missing\"}]}. No apparent errors after inspecting network."
   ]
  },
  {
   "cell_type": "markdown",
   "metadata": {},
   "source": [
    "## Attempt 3: Creating a request URL by manually putting tilejson_endpoint into the Tiler"
   ]
  },
  {
   "cell_type": "markdown",
   "metadata": {},
   "source": [
    "Putting tilejson_endpoint into Tiler ops /mosaicjson/WMTSCapabilities.xml <br>\n",
    "Outcome: Following error printed in Tiler: \n",
    "{\n",
    "  \"detail\": \"2 validation errors for Mosaic\n",
    "  JSON\\nmosaicjson\\n  field required (type=value_error.missing)\\ntiles\\n  value is not a valid dict (type=type_error.dict)\"\n",
    "}"
   ]
  },
  {
   "cell_type": "markdown",
   "metadata": {},
   "source": [
    "Putting tilejson_endpoint into h9su /mosaicjson/WMTSCapabilities.xml <br>\n",
    "Outcome: Following error printed in Tiler: \n",
    "{\n",
    "  \"detail\": \"2 validation errors for Mosaic\n",
    "  JSON\\nmosaicjson\\n  field required (type=value_error.missing)\\ntiles\\n  value is not a valid dict (type=type_error.dict)\"\n",
    "}"
   ]
  },
  {
   "cell_type": "code",
   "execution_count": null,
   "metadata": {},
   "outputs": [],
   "source": []
  }
 ],
 "metadata": {
  "kernelspec": {
   "display_name": "Python 3",
   "language": "python",
   "name": "python3"
  },
  "language_info": {
   "codemirror_mode": {
    "name": "ipython",
    "version": 3
   },
   "file_extension": ".py",
   "mimetype": "text/x-python",
   "name": "python",
   "nbconvert_exporter": "python",
   "pygments_lexer": "ipython3",
   "version": "3.7.8"
  }
 },
 "nbformat": 4,
 "nbformat_minor": 5
}
