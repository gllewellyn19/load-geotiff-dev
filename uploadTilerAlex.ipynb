{
 "cells": [
  {
   "cell_type": "markdown",
   "id": "39eb11ac",
   "metadata": {},
   "source": [
    "# The goal of this notebook is to demonstrate the problems that I am having with the Tiler in MAAP OPS"
   ]
  },
  {
   "cell_type": "code",
   "execution_count": 10,
   "id": "360ca380",
   "metadata": {},
   "outputs": [
    {
     "data": {
      "application/vnd.jupyter.widget-view+json": {
       "model_id": "a380a12d2d874a29b72d363df6af3453",
       "version_major": 2,
       "version_minor": 0
      },
      "text/plain": [
       "MapCMC()"
      ]
     },
     "metadata": {},
     "output_type": "display_data"
    }
   ],
   "source": [
    "from maap.maap import MAAP\n",
    "maap = MAAP(maap_host='api.ops.maap-project.org')\n",
    "\n",
    "import ipycmc\n",
    "w = ipycmc.MapCMC()\n",
    "w"
   ]
  },
  {
   "cell_type": "code",
   "execution_count": 9,
   "id": "c0ae46a6",
   "metadata": {},
   "outputs": [],
   "source": [
    "import requests\n",
    "from pprint import pprint\n",
    "\n",
    "titiler_endpoint_posting = \"https://h9su0upami.execute-api.us-east-1.amazonaws.com\"\n",
    "titiler_endpoint_ops = \"https://jqsd6bqdsf.execute-api.us-west-2.amazonaws.com\""
   ]
  },
  {
   "cell_type": "code",
   "execution_count": 3,
   "id": "db7637c6",
   "metadata": {},
   "outputs": [],
   "source": [
    "# Collect mosaicdata\n",
    "mosaicdata = {\"mosaicjson\": \"0.0.2\", \"name\": None, \"description\": None, \"version\": \"1.0.0\", \"attribution\": None, \"minzoom\": 10, \"maxzoom\": 18, \"quadkey_zoom\": 10, \"bounds\": [-101.00013888888888, 44.999861111111116, -99.9998611111111, 46.00013888888889], \"center\": [-100.5, 45.5, 10], \"tiles\": {\"0213302200\": [\"s3://maap-ops-workspace/graceal/N45W101.SRTMGL1.tif\"], \"0213302201\": [\"s3://maap-ops-workspace/graceal/N45W101.SRTMGL1.tif\"], \"0213302210\": [\"s3://maap-ops-workspace/graceal/N45W101.SRTMGL1.tif\"], \"0213302211\": [\"s3://maap-ops-workspace/graceal/N45W101.SRTMGL1.tif\"], \"0213302202\": [\"s3://maap-ops-workspace/graceal/N45W101.SRTMGL1.tif\"], \"0213302203\": [\"s3://maap-ops-workspace/graceal/N45W101.SRTMGL1.tif\"], \"0213302212\": [\"s3://maap-ops-workspace/graceal/N45W101.SRTMGL1.tif\"], \"0213302213\": [\"s3://maap-ops-workspace/graceal/N45W101.SRTMGL1.tif\"], \"0213302220\": [\"s3://maap-ops-workspace/graceal/N45W101.SRTMGL1.tif\"], \"0213302221\": [\"s3://maap-ops-workspace/graceal/N45W101.SRTMGL1.tif\"], \"0213302230\": [\"s3://maap-ops-workspace/graceal/N45W101.SRTMGL1.tif\"], \"0213302231\": [\"s3://maap-ops-workspace/graceal/N45W101.SRTMGL1.tif\"], \"0213302222\": [\"s3://maap-ops-workspace/graceal/N45W101.SRTMGL1.tif\"], \"0213302223\": [\"s3://maap-ops-workspace/graceal/N45W101.SRTMGL1.tif\"], \"0213302232\": [\"s3://maap-ops-workspace/graceal/N45W101.SRTMGL1.tif\"], \"0213302233\": [\"s3://maap-ops-workspace/graceal/N45W101.SRTMGL1.tif\"], \"0213320000\": [\"s3://maap-ops-workspace/graceal/N45W101.SRTMGL1.tif\"], \"0213320001\": [\"s3://maap-ops-workspace/graceal/N45W101.SRTMGL1.tif\"], \"0213320010\": [\"s3://maap-ops-workspace/graceal/N45W101.SRTMGL1.tif\"], \"0213320011\": [\"s3://maap-ops-workspace/graceal/N45W101.SRTMGL1.tif\"]}}"
   ]
  },
  {
   "cell_type": "code",
   "execution_count": 4,
   "id": "e7594ff7",
   "metadata": {},
   "outputs": [
    {
     "name": "stdout",
     "output_type": "stream",
     "text": [
      "{'id': 'af200d53-620d-4381-b567-9f5a69b2739a',\n",
      " 'links': [{'href': 'https://h9su0upami.execute-api.us-east-1.amazonaws.com/mosaicjson/mosaics/af200d53-620d-4381-b567-9f5a69b2739a',\n",
      "            'rel': 'self',\n",
      "            'title': 'Self',\n",
      "            'type': 'application/json'},\n",
      "           {'href': 'https://h9su0upami.execute-api.us-east-1.amazonaws.com/mosaicjson/mosaics/af200d53-620d-4381-b567-9f5a69b2739a/mosaicjson',\n",
      "            'rel': 'mosaicjson',\n",
      "            'title': 'MosiacJSON',\n",
      "            'type': 'application/json'},\n",
      "           {'href': 'https://h9su0upami.execute-api.us-east-1.amazonaws.com/mosaicjson/mosaics/af200d53-620d-4381-b567-9f5a69b2739a/tilejson.json',\n",
      "            'rel': 'tilejson',\n",
      "            'title': 'TileJSON',\n",
      "            'type': 'application/json'},\n",
      "           {'href': 'https://h9su0upami.execute-api.us-east-1.amazonaws.com/mosaicjson/mosaics/af200d53-620d-4381-b567-9f5a69b2739a/tiles/{z}/{x}/{y}',\n",
      "            'rel': 'tiles',\n",
      "            'title': 'Tiles',\n",
      "            'type': 'application/json'},\n",
      "           {'href': 'https://h9su0upami.execute-api.us-east-1.amazonaws.com/mosaicjson/mosaics/af200d53-620d-4381-b567-9f5a69b2739a/WMTSCapabilities.xml',\n",
      "            'rel': 'wmts',\n",
      "            'title': 'WMTS',\n",
      "            'type': 'application/json'}]}\n",
      "Tile json endpoint Alex uses in his code: https://h9su0upami.execute-api.us-east-1.amazonaws.com/mosaicjson/mosaics/af200d53-620d-4381-b567-9f5a69b2739a/tilejson.json\n",
      "XML endpoint to try to pass directly to CMC https://h9su0upami.execute-api.us-east-1.amazonaws.com/mosaicjson/mosaics/af200d53-620d-4381-b567-9f5a69b2739a/WMTSCapabilities.xml\n"
     ]
    }
   ],
   "source": [
    "r = requests.post(\n",
    "    url=f\"{titiler_endpoint_posting}/mosaicjson/mosaics\",\n",
    "    headers={\n",
    "        \"Content-Type\": \"application/vnd.titiler.mosaicjson+json\",\n",
    "    },\n",
    "    #json=mosaicdata2.dict(exclude_none=True)).json()\n",
    "    json=mosaicdata).json()\n",
    "pprint(r)\n",
    "tilejson_endpoint = list(filter(lambda x: x.get(\"rel\") == \"tilejson\", dict(r)[\"links\"]))[0].get('href')\n",
    "print(\"Tile json endpoint Alex uses in his code: \" + tilejson_endpoint)\n",
    "\n",
    "xml_endpoint = list(filter(lambda x: x.get(\"rel\") == \"wmts\", dict(r)[\"links\"]))[0].get('href')\n",
    "print(\"XML endpoint to try to pass directly to CMC \" + xml_endpoint)"
   ]
  },
  {
   "cell_type": "markdown",
   "id": "e808de70",
   "metadata": {},
   "source": [
    "## Attempt 1: Trying to pass XML endpoint directly into CMC"
   ]
  },
  {
   "cell_type": "code",
   "execution_count": 5,
   "id": "2b5ca475",
   "metadata": {},
   "outputs": [],
   "source": [
    "w.load_layer_config(xml_endpoint, \"wmts/xml\", {\"handleAs\": \"wmts_raster\"})"
   ]
  },
  {
   "cell_type": "markdown",
   "id": "9b805fa0",
   "metadata": {},
   "source": [
    "Outcome: A layer loads, but no tiles are shown on the map. After inspecting the network, I can tell that there is a 500 https error and you can see the error message at the following link [https://h9su0upami.execute-api.us-east-1.amazonaws.com/mosaicjson/mosaics/c5c7ca12-1aa5-493e-9a6b-ae69f02412fe/tiles/10/224/364@1x.png?&TIME=2021-06-19](https://h9su0upami.execute-api.us-east-1.amazonaws.com/mosaicjson/mosaics/c5c7ca12-1aa5-493e-9a6b-ae69f02412fe/tiles/10/224/364@1x.png?&TIME=2021-06-19) The error is: {\"detail\":\"'/vsis3/maap-ops-workspace/graceal/N45W101.SRTMGL1.tif' not recognized as a supported file format.\"}"
   ]
  },
  {
   "cell_type": "markdown",
   "id": "63b27ad9",
   "metadata": {},
   "source": [
    "## Attempt 2: Using tilejson_endpoint to pass to the Tiler and using that url for load_layer_config"
   ]
  },
  {
   "cell_type": "code",
   "execution_count": 12,
   "id": "a5282cd0",
   "metadata": {},
   "outputs": [
    {
     "data": {
      "text/plain": [
       "'https://jqsd6bqdsf.execute-api.us-west-2.amazonaws.com/mosaicjson/WMTSCapabilities.xml?tile_format=png&tile_scale=1&pixel_selection=first&TileMatrixSetId=WebMercatorQuad&url=https%3A%2F%2Fh9su0upami.execute-api.us-east-1.amazonaws.com%2Fmosaicjson%2Fmosaics%2Faf200d53-620d-4381-b567-9f5a69b2739a%2Ftilejson.json&resampling_method=nearest&return_mask=true&rescale=0%2C1000'"
      ]
     },
     "execution_count": 12,
     "metadata": {},
     "output_type": "execute_result"
    }
   ],
   "source": [
    "# Create the request url by formatting using the Tiler ops endpoint\n",
    "request_url = requests.get(\n",
    "f\"{titiler_endpoint_ops}/mosaicjson/WMTSCapabilities.xml?\", params={\"tile_format\":\"png\", \"tile_scale\":\"1\", \"pixel_selection\":\"first\", \"TileMatrixSetId\":\"WebMercatorQuad\", \"url\": f\"{tilejson_endpoint}\", \"resampling_method\":\"nearest\", \"return_mask\":\"true\", \"rescale\":\"0,1000\"}\n",
    ").url\n",
    "request_url"
   ]
  },
  {
   "cell_type": "markdown",
   "id": "06d860b9",
   "metadata": {},
   "source": [
    "Outcome: No map layer loads and when you click the above link, you can see that there is the following error: {\"detail\":[{\"loc\":[\"query\",\"url\"],\"msg\":\"field required\",\"type\":\"value_error.missing\"}]}"
   ]
  },
  {
   "cell_type": "code",
   "execution_count": 13,
   "id": "a8e910ea",
   "metadata": {},
   "outputs": [
    {
     "data": {
      "text/plain": [
       "'https://h9su0upami.execute-api.us-east-1.amazonaws.com/mosaicjson/WMTSCapabilities.xml?tile_format=png&tile_scale=1&pixel_selection=first&TileMatrixSetId=WebMercatorQuad&url=https%3A%2F%2Fh9su0upami.execute-api.us-east-1.amazonaws.com%2Fmosaicjson%2Fmosaics%2Faf200d53-620d-4381-b567-9f5a69b2739a%2Ftilejson.json&resampling_method=nearest&return_mask=true&rescale=0%2C1000'"
      ]
     },
     "execution_count": 13,
     "metadata": {},
     "output_type": "execute_result"
    }
   ],
   "source": [
    "# Create the request url using the h9su endpoint\n",
    "request_url2 = requests.get(\n",
    "f\"{titiler_endpoint_posting}/mosaicjson/WMTSCapabilities.xml?\", params={\"tile_format\":\"png\", \"tile_scale\":\"1\", \"pixel_selection\":\"first\", \"TileMatrixSetId\":\"WebMercatorQuad\", \"url\": f\"{tilejson_endpoint}\", \"resampling_method\":\"nearest\", \"return_mask\":\"true\", \"rescale\":\"0,1000\"}\n",
    ").url\n",
    "request_url2"
   ]
  },
  {
   "cell_type": "markdown",
   "id": "e9f2d144",
   "metadata": {},
   "source": [
    "Outcome: No map layer loads and when you click the above link, you can see that there is the following error: {\"detail\":[{\"loc\":[\"query\",\"url\"],\"msg\":\"field required\",\"type\":\"value_error.missing\"}]}"
   ]
  },
  {
   "cell_type": "markdown",
   "id": "97fee4b0",
   "metadata": {},
   "source": [
    "## Attempt 3: Creating a request URL by manually putting tilejson_endpoint into the Tiler"
   ]
  },
  {
   "cell_type": "markdown",
   "id": "251c4642",
   "metadata": {},
   "source": [
    "Putting tilejson_endpoint into Tiler ops /mosaicjson/WMTSCapabilities.xml\n",
    "Outcome: Following error printed in Tiler: \n",
    "{\n",
    "  \"detail\": \"2 validation errors for Mosaic\n",
    "  JSON\\nmosaicjson\\n  field required (type=value_error.missing)\\ntiles\\n  value is not a valid dict (type=type_error.dict)\"\n",
    "}"
   ]
  },
  {
   "cell_type": "markdown",
   "id": "941fd35d",
   "metadata": {},
   "source": [
    "Putting tilejson_endpoint into h9su /mosaicjson/WMTSCapabilities.xml\n",
    "Outcome: Following error printed in Tiler: \n",
    "{\n",
    "  \"detail\": \"2 validation errors for Mosaic\n",
    "  JSON\\nmosaicjson\\n  field required (type=value_error.missing)\\ntiles\\n  value is not a valid dict (type=type_error.dict)\"\n",
    "}"
   ]
  }
 ],
 "metadata": {
  "kernelspec": {
   "display_name": "Python 3",
   "language": "python",
   "name": "python3"
  },
  "language_info": {
   "codemirror_mode": {
    "name": "ipython",
    "version": 3
   },
   "file_extension": ".py",
   "mimetype": "text/x-python",
   "name": "python",
   "nbconvert_exporter": "python",
   "pygments_lexer": "ipython3",
   "version": "3.7.8"
  }
 },
 "nbformat": 4,
 "nbformat_minor": 5
}
